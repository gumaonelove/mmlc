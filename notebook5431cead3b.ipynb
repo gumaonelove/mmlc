{
 "metadata": {
  "kernelspec": {
   "language": "python",
   "display_name": "Python 3",
   "name": "python3"
  },
  "language_info": {
   "name": "python",
   "version": "3.7.12",
   "mimetype": "text/x-python",
   "codemirror_mode": {
    "name": "ipython",
    "version": 3
   },
   "pygments_lexer": "ipython3",
   "nbconvert_exporter": "python",
   "file_extension": ".py"
  }
 },
 "nbformat_minor": 4,
 "nbformat": 4,
 "cells": [
  {
   "cell_type": "code",
   "source": [
    "import numpy as np\n",
    "import pandas as pd "
   ],
   "metadata": {
    "_uuid": "8f2839f25d086af736a60e9eeb907d3b93b6e0e5",
    "_cell_guid": "b1076dfc-b9ad-4769-8c92-a6c4dae69d19",
    "execution": {
     "iopub.status.busy": "2023-02-16T16:14:54.928571Z",
     "iopub.execute_input": "2023-02-16T16:14:54.929040Z",
     "iopub.status.idle": "2023-02-16T16:14:55.060906Z",
     "shell.execute_reply.started": "2023-02-16T16:14:54.928941Z",
     "shell.execute_reply": "2023-02-16T16:14:55.059980Z"
    },
    "trusted": true,
    "pycharm": {
     "name": "#%%\n"
    }
   },
   "execution_count": 1,
   "outputs": []
  },
  {
   "cell_type": "code",
   "source": [
    "part_1_pd=pd.read_parquet('/kaggle/input/mts-ml-cup/part-00000-aba60f69-2b63-4cc1-95ca-542598094698-c000.snappy.parquet')"
   ],
   "metadata": {
    "execution": {
     "iopub.status.busy": "2023-02-16T14:39:21.919694Z",
     "iopub.execute_input": "2023-02-16T14:39:21.921255Z",
     "iopub.status.idle": "2023-02-16T14:39:42.466297Z",
     "shell.execute_reply.started": "2023-02-16T14:39:21.921210Z",
     "shell.execute_reply": "2023-02-16T14:39:42.465260Z"
    },
    "trusted": true,
    "pycharm": {
     "name": "#%%\n"
    }
   },
   "execution_count": 4,
   "outputs": []
  },
  {
   "cell_type": "code",
   "source": [
    "part_1_pd.head()"
   ],
   "metadata": {
    "execution": {
     "iopub.status.busy": "2023-02-16T14:39:42.470198Z",
     "iopub.execute_input": "2023-02-16T14:39:42.470500Z",
     "iopub.status.idle": "2023-02-16T14:39:42.496905Z",
     "shell.execute_reply.started": "2023-02-16T14:39:42.470472Z",
     "shell.execute_reply": "2023-02-16T14:39:42.495802Z"
    },
    "trusted": true,
    "pycharm": {
     "name": "#%%\n"
    }
   },
   "execution_count": 5,
   "outputs": [
    {
     "execution_count": 5,
     "output_type": "execute_result",
     "data": {
      "text/plain": "          region_name  city_name cpe_manufacturer_name cpe_model_name  \\\n0  Краснодарский край  Краснодар                 Apple       iPhone 7   \n1  Краснодарский край  Краснодар                 Apple       iPhone 7   \n2  Краснодарский край  Краснодар                 Apple       iPhone 7   \n3  Краснодарский край  Краснодар                 Apple       iPhone 7   \n4  Краснодарский край  Краснодар                 Apple       iPhone 7   \n\n                      url_host cpe_type_cd cpe_model_os_type    price  \\\n0                ad.adriver.ru  smartphone               iOS  20368.0   \n1                    apple.com  smartphone               iOS  20368.0   \n2       avatars.mds.yandex.net  smartphone               iOS  20368.0   \n3  googleads.g.doubleclick.net  smartphone               iOS  20368.0   \n4  googleads.g.doubleclick.net  smartphone               iOS  20368.0   \n\n         date part_of_day  request_cnt  user_id  \n0  2022-06-15     morning            1    45098  \n1  2022-06-19     morning            1    45098  \n2  2022-06-12         day            1    45098  \n3  2022-05-16         day            1    45098  \n4  2022-05-30         day            1    45098  ",
      "text/html": "<div>\n<style scoped>\n    .dataframe tbody tr th:only-of-type {\n        vertical-align: middle;\n    }\n\n    .dataframe tbody tr th {\n        vertical-align: top;\n    }\n\n    .dataframe thead th {\n        text-align: right;\n    }\n</style>\n<table border=\"1\" class=\"dataframe\">\n  <thead>\n    <tr style=\"text-align: right;\">\n      <th></th>\n      <th>region_name</th>\n      <th>city_name</th>\n      <th>cpe_manufacturer_name</th>\n      <th>cpe_model_name</th>\n      <th>url_host</th>\n      <th>cpe_type_cd</th>\n      <th>cpe_model_os_type</th>\n      <th>price</th>\n      <th>date</th>\n      <th>part_of_day</th>\n      <th>request_cnt</th>\n      <th>user_id</th>\n    </tr>\n  </thead>\n  <tbody>\n    <tr>\n      <th>0</th>\n      <td>Краснодарский край</td>\n      <td>Краснодар</td>\n      <td>Apple</td>\n      <td>iPhone 7</td>\n      <td>ad.adriver.ru</td>\n      <td>smartphone</td>\n      <td>iOS</td>\n      <td>20368.0</td>\n      <td>2022-06-15</td>\n      <td>morning</td>\n      <td>1</td>\n      <td>45098</td>\n    </tr>\n    <tr>\n      <th>1</th>\n      <td>Краснодарский край</td>\n      <td>Краснодар</td>\n      <td>Apple</td>\n      <td>iPhone 7</td>\n      <td>apple.com</td>\n      <td>smartphone</td>\n      <td>iOS</td>\n      <td>20368.0</td>\n      <td>2022-06-19</td>\n      <td>morning</td>\n      <td>1</td>\n      <td>45098</td>\n    </tr>\n    <tr>\n      <th>2</th>\n      <td>Краснодарский край</td>\n      <td>Краснодар</td>\n      <td>Apple</td>\n      <td>iPhone 7</td>\n      <td>avatars.mds.yandex.net</td>\n      <td>smartphone</td>\n      <td>iOS</td>\n      <td>20368.0</td>\n      <td>2022-06-12</td>\n      <td>day</td>\n      <td>1</td>\n      <td>45098</td>\n    </tr>\n    <tr>\n      <th>3</th>\n      <td>Краснодарский край</td>\n      <td>Краснодар</td>\n      <td>Apple</td>\n      <td>iPhone 7</td>\n      <td>googleads.g.doubleclick.net</td>\n      <td>smartphone</td>\n      <td>iOS</td>\n      <td>20368.0</td>\n      <td>2022-05-16</td>\n      <td>day</td>\n      <td>1</td>\n      <td>45098</td>\n    </tr>\n    <tr>\n      <th>4</th>\n      <td>Краснодарский край</td>\n      <td>Краснодар</td>\n      <td>Apple</td>\n      <td>iPhone 7</td>\n      <td>googleads.g.doubleclick.net</td>\n      <td>smartphone</td>\n      <td>iOS</td>\n      <td>20368.0</td>\n      <td>2022-05-30</td>\n      <td>day</td>\n      <td>1</td>\n      <td>45098</td>\n    </tr>\n  </tbody>\n</table>\n</div>"
     },
     "metadata": {}
    }
   ]
  },
  {
   "cell_type": "code",
   "source": [
    "part_1_pd.info()"
   ],
   "metadata": {
    "execution": {
     "iopub.status.busy": "2023-02-16T14:39:42.499787Z",
     "iopub.execute_input": "2023-02-16T14:39:42.500230Z",
     "iopub.status.idle": "2023-02-16T14:39:42.518415Z",
     "shell.execute_reply.started": "2023-02-16T14:39:42.500196Z",
     "shell.execute_reply": "2023-02-16T14:39:42.517078Z"
    },
    "trusted": true,
    "pycharm": {
     "name": "#%%\n"
    }
   },
   "execution_count": 6,
   "outputs": [
    {
     "name": "stdout",
     "text": "<class 'pandas.core.frame.DataFrame'>\nRangeIndex: 32638709 entries, 0 to 32638708\nData columns (total 12 columns):\n #   Column                 Dtype  \n---  ------                 -----  \n 0   region_name            object \n 1   city_name              object \n 2   cpe_manufacturer_name  object \n 3   cpe_model_name         object \n 4   url_host               object \n 5   cpe_type_cd            object \n 6   cpe_model_os_type      object \n 7   price                  float64\n 8   date                   object \n 9   part_of_day            object \n 10  request_cnt            int64  \n 11  user_id                int64  \ndtypes: float64(1), int64(2), object(9)\nmemory usage: 2.9+ GB\n",
     "output_type": "stream"
    }
   ]
  },
  {
   "cell_type": "code",
   "source": [
    "#part_1_pd.date.value_counts()"
   ],
   "metadata": {
    "execution": {
     "iopub.status.busy": "2023-02-16T14:39:42.520288Z",
     "iopub.execute_input": "2023-02-16T14:39:42.521096Z",
     "iopub.status.idle": "2023-02-16T14:39:42.529393Z",
     "shell.execute_reply.started": "2023-02-16T14:39:42.521048Z",
     "shell.execute_reply": "2023-02-16T14:39:42.528433Z"
    },
    "trusted": true,
    "pycharm": {
     "name": "#%%\n"
    }
   },
   "execution_count": 7,
   "outputs": []
  },
  {
   "cell_type": "code",
   "source": [
    "part_1_pd_without_date=part_1_pd.copy()\n",
    "part_1_pd_without_date.head()"
   ],
   "metadata": {
    "execution": {
     "iopub.status.busy": "2023-02-16T14:39:42.530862Z",
     "iopub.execute_input": "2023-02-16T14:39:42.531485Z",
     "iopub.status.idle": "2023-02-16T14:39:47.250871Z",
     "shell.execute_reply.started": "2023-02-16T14:39:42.531442Z",
     "shell.execute_reply": "2023-02-16T14:39:47.249906Z"
    },
    "trusted": true,
    "pycharm": {
     "name": "#%%\n"
    }
   },
   "execution_count": 8,
   "outputs": [
    {
     "execution_count": 8,
     "output_type": "execute_result",
     "data": {
      "text/plain": "          region_name  city_name cpe_manufacturer_name cpe_model_name  \\\n0  Краснодарский край  Краснодар                 Apple       iPhone 7   \n1  Краснодарский край  Краснодар                 Apple       iPhone 7   \n2  Краснодарский край  Краснодар                 Apple       iPhone 7   \n3  Краснодарский край  Краснодар                 Apple       iPhone 7   \n4  Краснодарский край  Краснодар                 Apple       iPhone 7   \n\n                      url_host cpe_type_cd cpe_model_os_type    price  \\\n0                ad.adriver.ru  smartphone               iOS  20368.0   \n1                    apple.com  smartphone               iOS  20368.0   \n2       avatars.mds.yandex.net  smartphone               iOS  20368.0   \n3  googleads.g.doubleclick.net  smartphone               iOS  20368.0   \n4  googleads.g.doubleclick.net  smartphone               iOS  20368.0   \n\n         date part_of_day  request_cnt  user_id  \n0  2022-06-15     morning            1    45098  \n1  2022-06-19     morning            1    45098  \n2  2022-06-12         day            1    45098  \n3  2022-05-16         day            1    45098  \n4  2022-05-30         day            1    45098  ",
      "text/html": "<div>\n<style scoped>\n    .dataframe tbody tr th:only-of-type {\n        vertical-align: middle;\n    }\n\n    .dataframe tbody tr th {\n        vertical-align: top;\n    }\n\n    .dataframe thead th {\n        text-align: right;\n    }\n</style>\n<table border=\"1\" class=\"dataframe\">\n  <thead>\n    <tr style=\"text-align: right;\">\n      <th></th>\n      <th>region_name</th>\n      <th>city_name</th>\n      <th>cpe_manufacturer_name</th>\n      <th>cpe_model_name</th>\n      <th>url_host</th>\n      <th>cpe_type_cd</th>\n      <th>cpe_model_os_type</th>\n      <th>price</th>\n      <th>date</th>\n      <th>part_of_day</th>\n      <th>request_cnt</th>\n      <th>user_id</th>\n    </tr>\n  </thead>\n  <tbody>\n    <tr>\n      <th>0</th>\n      <td>Краснодарский край</td>\n      <td>Краснодар</td>\n      <td>Apple</td>\n      <td>iPhone 7</td>\n      <td>ad.adriver.ru</td>\n      <td>smartphone</td>\n      <td>iOS</td>\n      <td>20368.0</td>\n      <td>2022-06-15</td>\n      <td>morning</td>\n      <td>1</td>\n      <td>45098</td>\n    </tr>\n    <tr>\n      <th>1</th>\n      <td>Краснодарский край</td>\n      <td>Краснодар</td>\n      <td>Apple</td>\n      <td>iPhone 7</td>\n      <td>apple.com</td>\n      <td>smartphone</td>\n      <td>iOS</td>\n      <td>20368.0</td>\n      <td>2022-06-19</td>\n      <td>morning</td>\n      <td>1</td>\n      <td>45098</td>\n    </tr>\n    <tr>\n      <th>2</th>\n      <td>Краснодарский край</td>\n      <td>Краснодар</td>\n      <td>Apple</td>\n      <td>iPhone 7</td>\n      <td>avatars.mds.yandex.net</td>\n      <td>smartphone</td>\n      <td>iOS</td>\n      <td>20368.0</td>\n      <td>2022-06-12</td>\n      <td>day</td>\n      <td>1</td>\n      <td>45098</td>\n    </tr>\n    <tr>\n      <th>3</th>\n      <td>Краснодарский край</td>\n      <td>Краснодар</td>\n      <td>Apple</td>\n      <td>iPhone 7</td>\n      <td>googleads.g.doubleclick.net</td>\n      <td>smartphone</td>\n      <td>iOS</td>\n      <td>20368.0</td>\n      <td>2022-05-16</td>\n      <td>day</td>\n      <td>1</td>\n      <td>45098</td>\n    </tr>\n    <tr>\n      <th>4</th>\n      <td>Краснодарский край</td>\n      <td>Краснодар</td>\n      <td>Apple</td>\n      <td>iPhone 7</td>\n      <td>googleads.g.doubleclick.net</td>\n      <td>smartphone</td>\n      <td>iOS</td>\n      <td>20368.0</td>\n      <td>2022-05-30</td>\n      <td>day</td>\n      <td>1</td>\n      <td>45098</td>\n    </tr>\n  </tbody>\n</table>\n</div>"
     },
     "metadata": {}
    }
   ]
  },
  {
   "cell_type": "code",
   "source": [
    "part_1_pd_without=part_1_pd_without_date.drop(['date','cpe_model_os_type','cpe_manufacturer_name','city_name'], axis=1)"
   ],
   "metadata": {
    "execution": {
     "iopub.status.busy": "2023-02-16T14:39:47.255337Z",
     "iopub.execute_input": "2023-02-16T14:39:47.256369Z",
     "iopub.status.idle": "2023-02-16T14:39:49.366726Z",
     "shell.execute_reply.started": "2023-02-16T14:39:47.256327Z",
     "shell.execute_reply": "2023-02-16T14:39:49.365696Z"
    },
    "trusted": true,
    "pycharm": {
     "name": "#%%\n"
    }
   },
   "execution_count": 9,
   "outputs": []
  },
  {
   "cell_type": "code",
   "source": [
    "part_1_pd_without.head()"
   ],
   "metadata": {
    "execution": {
     "iopub.status.busy": "2023-02-16T14:39:49.368124Z",
     "iopub.execute_input": "2023-02-16T14:39:49.368910Z",
     "iopub.status.idle": "2023-02-16T14:39:49.386196Z",
     "shell.execute_reply.started": "2023-02-16T14:39:49.368867Z",
     "shell.execute_reply": "2023-02-16T14:39:49.385030Z"
    },
    "trusted": true,
    "pycharm": {
     "name": "#%%\n"
    }
   },
   "execution_count": 10,
   "outputs": [
    {
     "execution_count": 10,
     "output_type": "execute_result",
     "data": {
      "text/plain": "          region_name cpe_model_name                     url_host cpe_type_cd  \\\n0  Краснодарский край       iPhone 7                ad.adriver.ru  smartphone   \n1  Краснодарский край       iPhone 7                    apple.com  smartphone   \n2  Краснодарский край       iPhone 7       avatars.mds.yandex.net  smartphone   \n3  Краснодарский край       iPhone 7  googleads.g.doubleclick.net  smartphone   \n4  Краснодарский край       iPhone 7  googleads.g.doubleclick.net  smartphone   \n\n     price part_of_day  request_cnt  user_id  \n0  20368.0     morning            1    45098  \n1  20368.0     morning            1    45098  \n2  20368.0         day            1    45098  \n3  20368.0         day            1    45098  \n4  20368.0         day            1    45098  ",
      "text/html": "<div>\n<style scoped>\n    .dataframe tbody tr th:only-of-type {\n        vertical-align: middle;\n    }\n\n    .dataframe tbody tr th {\n        vertical-align: top;\n    }\n\n    .dataframe thead th {\n        text-align: right;\n    }\n</style>\n<table border=\"1\" class=\"dataframe\">\n  <thead>\n    <tr style=\"text-align: right;\">\n      <th></th>\n      <th>region_name</th>\n      <th>cpe_model_name</th>\n      <th>url_host</th>\n      <th>cpe_type_cd</th>\n      <th>price</th>\n      <th>part_of_day</th>\n      <th>request_cnt</th>\n      <th>user_id</th>\n    </tr>\n  </thead>\n  <tbody>\n    <tr>\n      <th>0</th>\n      <td>Краснодарский край</td>\n      <td>iPhone 7</td>\n      <td>ad.adriver.ru</td>\n      <td>smartphone</td>\n      <td>20368.0</td>\n      <td>morning</td>\n      <td>1</td>\n      <td>45098</td>\n    </tr>\n    <tr>\n      <th>1</th>\n      <td>Краснодарский край</td>\n      <td>iPhone 7</td>\n      <td>apple.com</td>\n      <td>smartphone</td>\n      <td>20368.0</td>\n      <td>morning</td>\n      <td>1</td>\n      <td>45098</td>\n    </tr>\n    <tr>\n      <th>2</th>\n      <td>Краснодарский край</td>\n      <td>iPhone 7</td>\n      <td>avatars.mds.yandex.net</td>\n      <td>smartphone</td>\n      <td>20368.0</td>\n      <td>day</td>\n      <td>1</td>\n      <td>45098</td>\n    </tr>\n    <tr>\n      <th>3</th>\n      <td>Краснодарский край</td>\n      <td>iPhone 7</td>\n      <td>googleads.g.doubleclick.net</td>\n      <td>smartphone</td>\n      <td>20368.0</td>\n      <td>day</td>\n      <td>1</td>\n      <td>45098</td>\n    </tr>\n    <tr>\n      <th>4</th>\n      <td>Краснодарский край</td>\n      <td>iPhone 7</td>\n      <td>googleads.g.doubleclick.net</td>\n      <td>smartphone</td>\n      <td>20368.0</td>\n      <td>day</td>\n      <td>1</td>\n      <td>45098</td>\n    </tr>\n  </tbody>\n</table>\n</div>"
     },
     "metadata": {}
    }
   ]
  },
  {
   "cell_type": "code",
   "source": [
    "part_1_pd_without[part_1_pd_without.request_cnt==12].head()"
   ],
   "metadata": {
    "execution": {
     "iopub.status.busy": "2023-02-16T14:39:49.387893Z",
     "iopub.execute_input": "2023-02-16T14:39:49.388307Z",
     "iopub.status.idle": "2023-02-16T14:39:49.523092Z",
     "shell.execute_reply.started": "2023-02-16T14:39:49.388270Z",
     "shell.execute_reply": "2023-02-16T14:39:49.521940Z"
    },
    "trusted": true,
    "pycharm": {
     "name": "#%%\n"
    }
   },
   "execution_count": 11,
   "outputs": [
    {
     "execution_count": 11,
     "output_type": "execute_result",
     "data": {
      "text/plain": "                 region_name cpe_model_name        url_host cpe_type_cd  \\\n57324     Краснодарский край  iPhone 11 Pro  mail.yandex.ru  smartphone   \n114795  Оренбургская область      P Smart Z          vk.com  smartphone   \n115239  Оренбургская область      P Smart Z        m.vk.com  smartphone   \n115325  Оренбургская область      P Smart Z       yandex.ru  smartphone   \n117165  Республика Татарстан       iPhone X      icloud.com  smartphone   \n\n          price part_of_day  request_cnt  user_id  \n57324   85883.0         day           12   341142  \n114795  15924.0     evening           12   142413  \n115239  15924.0     evening           12   142413  \n115325  15924.0     evening           12   142413  \n117165  56357.0       night           12   148293  ",
      "text/html": "<div>\n<style scoped>\n    .dataframe tbody tr th:only-of-type {\n        vertical-align: middle;\n    }\n\n    .dataframe tbody tr th {\n        vertical-align: top;\n    }\n\n    .dataframe thead th {\n        text-align: right;\n    }\n</style>\n<table border=\"1\" class=\"dataframe\">\n  <thead>\n    <tr style=\"text-align: right;\">\n      <th></th>\n      <th>region_name</th>\n      <th>cpe_model_name</th>\n      <th>url_host</th>\n      <th>cpe_type_cd</th>\n      <th>price</th>\n      <th>part_of_day</th>\n      <th>request_cnt</th>\n      <th>user_id</th>\n    </tr>\n  </thead>\n  <tbody>\n    <tr>\n      <th>57324</th>\n      <td>Краснодарский край</td>\n      <td>iPhone 11 Pro</td>\n      <td>mail.yandex.ru</td>\n      <td>smartphone</td>\n      <td>85883.0</td>\n      <td>day</td>\n      <td>12</td>\n      <td>341142</td>\n    </tr>\n    <tr>\n      <th>114795</th>\n      <td>Оренбургская область</td>\n      <td>P Smart Z</td>\n      <td>vk.com</td>\n      <td>smartphone</td>\n      <td>15924.0</td>\n      <td>evening</td>\n      <td>12</td>\n      <td>142413</td>\n    </tr>\n    <tr>\n      <th>115239</th>\n      <td>Оренбургская область</td>\n      <td>P Smart Z</td>\n      <td>m.vk.com</td>\n      <td>smartphone</td>\n      <td>15924.0</td>\n      <td>evening</td>\n      <td>12</td>\n      <td>142413</td>\n    </tr>\n    <tr>\n      <th>115325</th>\n      <td>Оренбургская область</td>\n      <td>P Smart Z</td>\n      <td>yandex.ru</td>\n      <td>smartphone</td>\n      <td>15924.0</td>\n      <td>evening</td>\n      <td>12</td>\n      <td>142413</td>\n    </tr>\n    <tr>\n      <th>117165</th>\n      <td>Республика Татарстан</td>\n      <td>iPhone X</td>\n      <td>icloud.com</td>\n      <td>smartphone</td>\n      <td>56357.0</td>\n      <td>night</td>\n      <td>12</td>\n      <td>148293</td>\n    </tr>\n  </tbody>\n</table>\n</div>"
     },
     "metadata": {}
    }
   ]
  },
  {
   "cell_type": "code",
   "source": [
    "pd.unique(part_1_pd_without.user_id).shape"
   ],
   "metadata": {
    "execution": {
     "iopub.status.busy": "2023-02-16T14:39:49.527071Z",
     "iopub.execute_input": "2023-02-16T14:39:49.527454Z",
     "iopub.status.idle": "2023-02-16T14:39:49.729476Z",
     "shell.execute_reply.started": "2023-02-16T14:39:49.527423Z",
     "shell.execute_reply": "2023-02-16T14:39:49.728222Z"
    },
    "trusted": true,
    "pycharm": {
     "name": "#%%\n"
    }
   },
   "execution_count": 12,
   "outputs": [
    {
     "execution_count": 12,
     "output_type": "execute_result",
     "data": {
      "text/plain": "(41594,)"
     },
     "metadata": {}
    }
   ]
  },
  {
   "cell_type": "code",
   "source": [
    "from tqdm import tqdm\n",
    "\n",
    "new_dataframe=pd.DataFrame(columns=['user_id','url_host','cpe_type_cd','cpe_model_name','price','region_name','parts_of_day','request_cnt_mean'])\n",
    "\n",
    "url_host_uniq=pd.unique(cudf_part_1_pd_without.url_host)\n",
    "for url in url_host_uniq:\n",
    "    user_id_uniq=pd.unique(part_1_pd_without[part_1_pd_without.url_host==url].user_id)\n",
    "    for user in tqdm(user_id_uniq):  \n",
    "        dataframer=part_1_pd_without[(part_1_pd_without.url_host==url) & (part_1_pd_without.user_id==user)].reset_index()\n",
    "        df2 = pd.DataFrame({'user_id':user,'url_host':url,'cpe_type_cd':dataframer.cpe_type_cd[0],'cpe_model_name':dataframer.cpe_model_name[0],'price':dataframer.price[0],'region_name':dataframer.region_name[0],'parts_of_day':[dataframer.part_of_day.to_list()],'request_cnt_mean':dataframer.request_cnt.mean()})\n",
    "        new_dataframe = pd.concat([df2, new_dataframe])\n",
    "        \n",
    "        \n",
    "        "
   ],
   "metadata": {
    "execution": {
     "iopub.status.busy": "2023-02-16T14:39:49.731189Z",
     "iopub.execute_input": "2023-02-16T14:39:49.731568Z",
     "iopub.status.idle": "2023-02-16T14:39:49.759210Z",
     "shell.execute_reply.started": "2023-02-16T14:39:49.731533Z",
     "shell.execute_reply": "2023-02-16T14:39:49.757859Z"
    },
    "trusted": true,
    "pycharm": {
     "name": "#%%\n"
    }
   },
   "execution_count": 13,
   "outputs": [
    {
     "traceback": [
      "\u001B[0;31m---------------------------------------------------------------------------\u001B[0m",
      "\u001B[0;31mModuleNotFoundError\u001B[0m                       Traceback (most recent call last)",
      "\u001B[0;32m/tmp/ipykernel_23/1357001012.py\u001B[0m in \u001B[0;36m<module>\u001B[0;34m\u001B[0m\n\u001B[1;32m      1\u001B[0m \u001B[0;32mfrom\u001B[0m \u001B[0mtqdm\u001B[0m \u001B[0;32mimport\u001B[0m \u001B[0mtqdm\u001B[0m\u001B[0;34m\u001B[0m\u001B[0;34m\u001B[0m\u001B[0m\n\u001B[0;32m----> 2\u001B[0;31m \u001B[0;32mimport\u001B[0m \u001B[0mcudf\u001B[0m\u001B[0;34m\u001B[0m\u001B[0;34m\u001B[0m\u001B[0m\n\u001B[0m\u001B[1;32m      3\u001B[0m \u001B[0mnew_dataframe\u001B[0m\u001B[0;34m=\u001B[0m\u001B[0mpd\u001B[0m\u001B[0;34m.\u001B[0m\u001B[0mDataFrame\u001B[0m\u001B[0;34m(\u001B[0m\u001B[0mcolumns\u001B[0m\u001B[0;34m=\u001B[0m\u001B[0;34m[\u001B[0m\u001B[0;34m'user_id'\u001B[0m\u001B[0;34m,\u001B[0m\u001B[0;34m'url_host'\u001B[0m\u001B[0;34m,\u001B[0m\u001B[0;34m'cpe_type_cd'\u001B[0m\u001B[0;34m,\u001B[0m\u001B[0;34m'cpe_model_name'\u001B[0m\u001B[0;34m,\u001B[0m\u001B[0;34m'price'\u001B[0m\u001B[0;34m,\u001B[0m\u001B[0;34m'region_name'\u001B[0m\u001B[0;34m,\u001B[0m\u001B[0;34m'parts_of_day'\u001B[0m\u001B[0;34m,\u001B[0m\u001B[0;34m'request_cnt_mean'\u001B[0m\u001B[0;34m]\u001B[0m\u001B[0;34m)\u001B[0m\u001B[0;34m\u001B[0m\u001B[0;34m\u001B[0m\u001B[0m\n\u001B[1;32m      4\u001B[0m \u001B[0mcudf_df\u001B[0m \u001B[0;34m=\u001B[0m \u001B[0mcudf\u001B[0m\u001B[0;34m.\u001B[0m\u001B[0mDataFrame\u001B[0m\u001B[0;34m.\u001B[0m\u001B[0mfrom_pandas\u001B[0m\u001B[0;34m(\u001B[0m\u001B[0mnew_dataframe\u001B[0m\u001B[0;34m)\u001B[0m\u001B[0;34m\u001B[0m\u001B[0;34m\u001B[0m\u001B[0m\n\u001B[1;32m      5\u001B[0m \u001B[0mcudf_part_1_pd_without\u001B[0m\u001B[0;34m=\u001B[0m\u001B[0mcudf\u001B[0m\u001B[0;34m.\u001B[0m\u001B[0mDataFrame\u001B[0m\u001B[0;34m.\u001B[0m\u001B[0mfrom_pandas\u001B[0m\u001B[0;34m(\u001B[0m\u001B[0mpart_1_pd_without\u001B[0m\u001B[0;34m)\u001B[0m\u001B[0;34m\u001B[0m\u001B[0;34m\u001B[0m\u001B[0m\n",
      "\u001B[0;31mModuleNotFoundError\u001B[0m: No module named 'cudf'"
     ],
     "ename": "ModuleNotFoundError",
     "evalue": "No module named 'cudf'",
     "output_type": "error"
    }
   ]
  },
  {
   "cell_type": "code",
   "source": [
    "new_dataframe.head()"
   ],
   "metadata": {
    "execution": {
     "iopub.status.busy": "2023-02-16T14:39:49.761503Z",
     "iopub.status.idle": "2023-02-16T14:39:49.762339Z",
     "shell.execute_reply.started": "2023-02-16T14:39:49.762058Z",
     "shell.execute_reply": "2023-02-16T14:39:49.762097Z"
    },
    "trusted": true,
    "pycharm": {
     "name": "#%%\n"
    }
   },
   "execution_count": null,
   "outputs": []
  }
 ]
}