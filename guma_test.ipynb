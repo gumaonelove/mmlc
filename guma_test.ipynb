{
 "nbformat": 4,
 "nbformat_minor": 0,
 "metadata": {
  "colab": {
   "provenance": []
  },
  "kernelspec": {
   "name": "python3",
   "display_name": "Python 3"
  },
  "language_info": {
   "name": "python"
  }
 },
 "cells": [
  {
   "cell_type": "markdown",
   "source": [
    "# Подгружаем данные"
   ],
   "metadata": {
    "collapsed": false
   }
  },
  {
   "cell_type": "code",
   "execution_count": 1,
   "outputs": [],
   "source": [
    "import pandas as pd"
   ],
   "metadata": {
    "collapsed": false
   }
  },
  {
   "cell_type": "code",
   "source": [
    "train_df = pd.read_parquet('public_train.pqt')\n",
    "train_df.head()"
   ],
   "metadata": {
    "colab": {
     "base_uri": "https://localhost:8080/",
     "height": 206
    },
    "id": "iKh8Q7fHoVcb",
    "outputId": "72ed7dad-0c9d-4d5b-a039-4ff16cde4a37"
   },
   "execution_count": 6,
   "outputs": [
    {
     "data": {
      "text/plain": "         age is_male  user_id\n350459  31.0       1   350459\n188276  35.0       1   188276\n99002   41.0       0    99002\n155506  33.0       0   155506\n213873  54.0       0   213873",
      "text/html": "<div>\n<style scoped>\n    .dataframe tbody tr th:only-of-type {\n        vertical-align: middle;\n    }\n\n    .dataframe tbody tr th {\n        vertical-align: top;\n    }\n\n    .dataframe thead th {\n        text-align: right;\n    }\n</style>\n<table border=\"1\" class=\"dataframe\">\n  <thead>\n    <tr style=\"text-align: right;\">\n      <th></th>\n      <th>age</th>\n      <th>is_male</th>\n      <th>user_id</th>\n    </tr>\n  </thead>\n  <tbody>\n    <tr>\n      <th>350459</th>\n      <td>31.0</td>\n      <td>1</td>\n      <td>350459</td>\n    </tr>\n    <tr>\n      <th>188276</th>\n      <td>35.0</td>\n      <td>1</td>\n      <td>188276</td>\n    </tr>\n    <tr>\n      <th>99002</th>\n      <td>41.0</td>\n      <td>0</td>\n      <td>99002</td>\n    </tr>\n    <tr>\n      <th>155506</th>\n      <td>33.0</td>\n      <td>0</td>\n      <td>155506</td>\n    </tr>\n    <tr>\n      <th>213873</th>\n      <td>54.0</td>\n      <td>0</td>\n      <td>213873</td>\n    </tr>\n  </tbody>\n</table>\n</div>"
     },
     "execution_count": 6,
     "metadata": {},
     "output_type": "execute_result"
    }
   ]
  },
  {
   "cell_type": "code",
   "source": [
    "sample_df = pd.read_csv('sample_submission.csv')\n",
    "sample_df.head()"
   ],
   "metadata": {
    "colab": {
     "base_uri": "https://localhost:8080/",
     "height": 206
    },
    "id": "oCdM1t_EowD4",
    "outputId": "a76c9bec-b70f-4ed9-983c-dd6ec8702755"
   },
   "execution_count": 7,
   "outputs": [
    {
     "data": {
      "text/plain": "   user_id  age   is_male\n0        6    2  0.330467\n1       11    5  0.725477\n2       19    1  0.240190\n3       27    2  0.536798\n4       32    3  0.471325",
      "text/html": "<div>\n<style scoped>\n    .dataframe tbody tr th:only-of-type {\n        vertical-align: middle;\n    }\n\n    .dataframe tbody tr th {\n        vertical-align: top;\n    }\n\n    .dataframe thead th {\n        text-align: right;\n    }\n</style>\n<table border=\"1\" class=\"dataframe\">\n  <thead>\n    <tr style=\"text-align: right;\">\n      <th></th>\n      <th>user_id</th>\n      <th>age</th>\n      <th>is_male</th>\n    </tr>\n  </thead>\n  <tbody>\n    <tr>\n      <th>0</th>\n      <td>6</td>\n      <td>2</td>\n      <td>0.330467</td>\n    </tr>\n    <tr>\n      <th>1</th>\n      <td>11</td>\n      <td>5</td>\n      <td>0.725477</td>\n    </tr>\n    <tr>\n      <th>2</th>\n      <td>19</td>\n      <td>1</td>\n      <td>0.240190</td>\n    </tr>\n    <tr>\n      <th>3</th>\n      <td>27</td>\n      <td>2</td>\n      <td>0.536798</td>\n    </tr>\n    <tr>\n      <th>4</th>\n      <td>32</td>\n      <td>3</td>\n      <td>0.471325</td>\n    </tr>\n  </tbody>\n</table>\n</div>"
     },
     "execution_count": 7,
     "metadata": {},
     "output_type": "execute_result"
    }
   ]
  },
  {
   "cell_type": "code",
   "source": [
    "submit_df = pd.read_parquet('submit_2.pqt')\n",
    "submit_df.head()"
   ],
   "metadata": {
    "colab": {
     "base_uri": "https://localhost:8080/",
     "height": 206
    },
    "id": "nWg_JbZ0o8-k",
    "outputId": "5f605d03-bc6d-4689-a033-059867560a71"
   },
   "execution_count": 8,
   "outputs": [
    {
     "data": {
      "text/plain": "        user_id\n221301   221301\n31271     31271\n211594   211594\n253119   253119\n192578   192578",
      "text/html": "<div>\n<style scoped>\n    .dataframe tbody tr th:only-of-type {\n        vertical-align: middle;\n    }\n\n    .dataframe tbody tr th {\n        vertical-align: top;\n    }\n\n    .dataframe thead th {\n        text-align: right;\n    }\n</style>\n<table border=\"1\" class=\"dataframe\">\n  <thead>\n    <tr style=\"text-align: right;\">\n      <th></th>\n      <th>user_id</th>\n    </tr>\n  </thead>\n  <tbody>\n    <tr>\n      <th>221301</th>\n      <td>221301</td>\n    </tr>\n    <tr>\n      <th>31271</th>\n      <td>31271</td>\n    </tr>\n    <tr>\n      <th>211594</th>\n      <td>211594</td>\n    </tr>\n    <tr>\n      <th>253119</th>\n      <td>253119</td>\n    </tr>\n    <tr>\n      <th>192578</th>\n      <td>192578</td>\n    </tr>\n  </tbody>\n</table>\n</div>"
     },
     "execution_count": 8,
     "metadata": {},
     "output_type": "execute_result"
    }
   ]
  },
  {
   "cell_type": "code",
   "source": [
    "part_df_1 = pd.read_parquet('competition_data_final_pqt/part-00000-aba60f69-2b63-4cc1-95ca-542598094698-c000.snappy.parquet')\n",
    "part_df_1.info()"
   ],
   "metadata": {
    "id": "BhRxIIurp0yf"
   },
   "execution_count": 38,
   "outputs": [
    {
     "name": "stdout",
     "output_type": "stream",
     "text": [
      "<class 'pandas.core.frame.DataFrame'>\n",
      "RangeIndex: 32638709 entries, 0 to 32638708\n",
      "Data columns (total 12 columns):\n",
      " #   Column                 Dtype  \n",
      "---  ------                 -----  \n",
      " 0   region_name            object \n",
      " 1   city_name              object \n",
      " 2   cpe_manufacturer_name  object \n",
      " 3   cpe_model_name         object \n",
      " 4   url_host               object \n",
      " 5   cpe_type_cd            object \n",
      " 6   cpe_model_os_type      object \n",
      " 7   price                  float64\n",
      " 8   date                   object \n",
      " 9   part_of_day            object \n",
      " 10  request_cnt            int64  \n",
      " 11  user_id                int64  \n",
      "dtypes: float64(1), int64(2), object(9)\n",
      "memory usage: 2.9+ GB\n"
     ]
    }
   ]
  },
  {
   "cell_type": "code",
   "execution_count": 39,
   "outputs": [
    {
     "data": {
      "text/plain": "          region_name  city_name cpe_manufacturer_name cpe_model_name  \\\n0  Краснодарский край  Краснодар                 Apple       iPhone 7   \n1  Краснодарский край  Краснодар                 Apple       iPhone 7   \n2  Краснодарский край  Краснодар                 Apple       iPhone 7   \n3  Краснодарский край  Краснодар                 Apple       iPhone 7   \n4  Краснодарский край  Краснодар                 Apple       iPhone 7   \n\n                      url_host cpe_type_cd cpe_model_os_type    price  \\\n0                ad.adriver.ru  smartphone               iOS  20368.0   \n1                    apple.com  smartphone               iOS  20368.0   \n2       avatars.mds.yandex.net  smartphone               iOS  20368.0   \n3  googleads.g.doubleclick.net  smartphone               iOS  20368.0   \n4  googleads.g.doubleclick.net  smartphone               iOS  20368.0   \n\n         date part_of_day  request_cnt  user_id  \n0  2022-06-15     morning            1    45098  \n1  2022-06-19     morning            1    45098  \n2  2022-06-12         day            1    45098  \n3  2022-05-16         day            1    45098  \n4  2022-05-30         day            1    45098  ",
      "text/html": "<div>\n<style scoped>\n    .dataframe tbody tr th:only-of-type {\n        vertical-align: middle;\n    }\n\n    .dataframe tbody tr th {\n        vertical-align: top;\n    }\n\n    .dataframe thead th {\n        text-align: right;\n    }\n</style>\n<table border=\"1\" class=\"dataframe\">\n  <thead>\n    <tr style=\"text-align: right;\">\n      <th></th>\n      <th>region_name</th>\n      <th>city_name</th>\n      <th>cpe_manufacturer_name</th>\n      <th>cpe_model_name</th>\n      <th>url_host</th>\n      <th>cpe_type_cd</th>\n      <th>cpe_model_os_type</th>\n      <th>price</th>\n      <th>date</th>\n      <th>part_of_day</th>\n      <th>request_cnt</th>\n      <th>user_id</th>\n    </tr>\n  </thead>\n  <tbody>\n    <tr>\n      <th>0</th>\n      <td>Краснодарский край</td>\n      <td>Краснодар</td>\n      <td>Apple</td>\n      <td>iPhone 7</td>\n      <td>ad.adriver.ru</td>\n      <td>smartphone</td>\n      <td>iOS</td>\n      <td>20368.0</td>\n      <td>2022-06-15</td>\n      <td>morning</td>\n      <td>1</td>\n      <td>45098</td>\n    </tr>\n    <tr>\n      <th>1</th>\n      <td>Краснодарский край</td>\n      <td>Краснодар</td>\n      <td>Apple</td>\n      <td>iPhone 7</td>\n      <td>apple.com</td>\n      <td>smartphone</td>\n      <td>iOS</td>\n      <td>20368.0</td>\n      <td>2022-06-19</td>\n      <td>morning</td>\n      <td>1</td>\n      <td>45098</td>\n    </tr>\n    <tr>\n      <th>2</th>\n      <td>Краснодарский край</td>\n      <td>Краснодар</td>\n      <td>Apple</td>\n      <td>iPhone 7</td>\n      <td>avatars.mds.yandex.net</td>\n      <td>smartphone</td>\n      <td>iOS</td>\n      <td>20368.0</td>\n      <td>2022-06-12</td>\n      <td>day</td>\n      <td>1</td>\n      <td>45098</td>\n    </tr>\n    <tr>\n      <th>3</th>\n      <td>Краснодарский край</td>\n      <td>Краснодар</td>\n      <td>Apple</td>\n      <td>iPhone 7</td>\n      <td>googleads.g.doubleclick.net</td>\n      <td>smartphone</td>\n      <td>iOS</td>\n      <td>20368.0</td>\n      <td>2022-05-16</td>\n      <td>day</td>\n      <td>1</td>\n      <td>45098</td>\n    </tr>\n    <tr>\n      <th>4</th>\n      <td>Краснодарский край</td>\n      <td>Краснодар</td>\n      <td>Apple</td>\n      <td>iPhone 7</td>\n      <td>googleads.g.doubleclick.net</td>\n      <td>smartphone</td>\n      <td>iOS</td>\n      <td>20368.0</td>\n      <td>2022-05-30</td>\n      <td>day</td>\n      <td>1</td>\n      <td>45098</td>\n    </tr>\n  </tbody>\n</table>\n</div>"
     },
     "execution_count": 39,
     "metadata": {},
     "output_type": "execute_result"
    }
   ],
   "source": [
    "part_df_1.head()"
   ],
   "metadata": {
    "collapsed": false
   }
  },
  {
   "cell_type": "code",
   "execution_count": 40,
   "outputs": [
    {
     "data": {
      "text/plain": "Москва             4768096\nСанкт-Петербург    2065859\nКраснодар           928547\nНовосибирск         902115\nУфа                 863489\n                    ...   \nСычёвка                  1\nМосальск                 1\nНовоузенск               1\nСенгилей                 1\nКрасавино                1\nName: city_name, Length: 962, dtype: int64"
     },
     "execution_count": 40,
     "metadata": {},
     "output_type": "execute_result"
    }
   ],
   "source": [
    "part_df_1['city_name'].value_counts()"
   ],
   "metadata": {
    "collapsed": false
   }
  },
  {
   "cell_type": "code",
   "execution_count": 41,
   "outputs": [
    {
     "data": {
      "text/plain": "Москва                     4768096\nКраснодарский край         2622421\nМосковская область         2102951\nСанкт-Петербург            2065859\nРеспублика Башкортостан    1570337\n                            ...   \nЕврейская АО                 18446\nНенецкий АО                   6242\nРеспублика Калмыкия           1837\nЧукотский АО                   651\nРеспублика Ингушетия           377\nName: region_name, Length: 80, dtype: int64"
     },
     "execution_count": 41,
     "metadata": {},
     "output_type": "execute_result"
    }
   ],
   "source": [
    "part_df_1['region_name'].value_counts()"
   ],
   "metadata": {
    "collapsed": false
   }
  },
  {
   "cell_type": "code",
   "execution_count": 42,
   "outputs": [
    {
     "data": {
      "text/plain": "       region_name city_name cpe_manufacturer_name cpe_model_name  \\\ncount     32638709  32638709              32638709       32638709   \nunique          80       962                    33            514   \ntop         Москва    Москва                 Apple      iPhone 11   \nfreq       4768096   4768096              12647538        2990038   \n\n                           url_host cpe_type_cd cpe_model_os_type        date  \\\ncount                      32638709    32638709          32638709    32638709   \nunique                        77904           4                 3         396   \ntop     googleads.g.doubleclick.net  smartphone           Android  2021-06-16   \nfreq                        2209179    32630468          19991171      717108   \n\n       part_of_day  \ncount     32638709  \nunique           4  \ntop            day  \nfreq      10855713  ",
      "text/html": "<div>\n<style scoped>\n    .dataframe tbody tr th:only-of-type {\n        vertical-align: middle;\n    }\n\n    .dataframe tbody tr th {\n        vertical-align: top;\n    }\n\n    .dataframe thead th {\n        text-align: right;\n    }\n</style>\n<table border=\"1\" class=\"dataframe\">\n  <thead>\n    <tr style=\"text-align: right;\">\n      <th></th>\n      <th>region_name</th>\n      <th>city_name</th>\n      <th>cpe_manufacturer_name</th>\n      <th>cpe_model_name</th>\n      <th>url_host</th>\n      <th>cpe_type_cd</th>\n      <th>cpe_model_os_type</th>\n      <th>date</th>\n      <th>part_of_day</th>\n    </tr>\n  </thead>\n  <tbody>\n    <tr>\n      <th>count</th>\n      <td>32638709</td>\n      <td>32638709</td>\n      <td>32638709</td>\n      <td>32638709</td>\n      <td>32638709</td>\n      <td>32638709</td>\n      <td>32638709</td>\n      <td>32638709</td>\n      <td>32638709</td>\n    </tr>\n    <tr>\n      <th>unique</th>\n      <td>80</td>\n      <td>962</td>\n      <td>33</td>\n      <td>514</td>\n      <td>77904</td>\n      <td>4</td>\n      <td>3</td>\n      <td>396</td>\n      <td>4</td>\n    </tr>\n    <tr>\n      <th>top</th>\n      <td>Москва</td>\n      <td>Москва</td>\n      <td>Apple</td>\n      <td>iPhone 11</td>\n      <td>googleads.g.doubleclick.net</td>\n      <td>smartphone</td>\n      <td>Android</td>\n      <td>2021-06-16</td>\n      <td>day</td>\n    </tr>\n    <tr>\n      <th>freq</th>\n      <td>4768096</td>\n      <td>4768096</td>\n      <td>12647538</td>\n      <td>2990038</td>\n      <td>2209179</td>\n      <td>32630468</td>\n      <td>19991171</td>\n      <td>717108</td>\n      <td>10855713</td>\n    </tr>\n  </tbody>\n</table>\n</div>"
     },
     "execution_count": 42,
     "metadata": {},
     "output_type": "execute_result"
    }
   ],
   "source": [
    "gl_obj = part_df_1.select_dtypes(include='object').copy()\n",
    "gl_obj.describe()"
   ],
   "metadata": {
    "collapsed": false
   }
  },
  {
   "cell_type": "code",
   "execution_count": 43,
   "outputs": [],
   "source": [
    "part_df_1_copy = part_df_1.copy()"
   ],
   "metadata": {
    "collapsed": false
   }
  },
  {
   "cell_type": "code",
   "execution_count": 44,
   "outputs": [
    {
     "name": "stdout",
     "output_type": "stream",
     "text": [
      "<class 'pandas.core.frame.DataFrame'>\n",
      "RangeIndex: 32638709 entries, 0 to 32638708\n",
      "Data columns (total 12 columns):\n",
      " #   Column                 Dtype   \n",
      "---  ------                 -----   \n",
      " 0   region_name            category\n",
      " 1   city_name              category\n",
      " 2   cpe_manufacturer_name  category\n",
      " 3   cpe_model_name         category\n",
      " 4   url_host               category\n",
      " 5   cpe_type_cd            category\n",
      " 6   cpe_model_os_type      category\n",
      " 7   price                  float64 \n",
      " 8   date                   category\n",
      " 9   part_of_day            category\n",
      " 10  request_cnt            int64   \n",
      " 11  user_id                int64   \n",
      "dtypes: category(9), float64(1), int64(2)\n",
      "memory usage: 1.2 GB\n"
     ]
    }
   ],
   "source": [
    "columns = gl_obj.columns\n",
    "for column in columns:\n",
    "    dow = gl_obj[column]\n",
    "    dow_cat = dow.astype('category')\n",
    "    part_df_1_copy[column] = dow_cat\n",
    "part_df_1_copy.info()"
   ],
   "metadata": {
    "collapsed": false
   }
  },
  {
   "cell_type": "code",
   "execution_count": 45,
   "outputs": [
    {
     "data": {
      "text/plain": "200172    17481\n386898    15133\n63338     15022\n54728     14604\n293590    13237\n          ...  \n388442        1\n199276        1\n20917         1\n174298        1\n257257        1\nName: user_id, Length: 41594, dtype: int64"
     },
     "execution_count": 45,
     "metadata": {},
     "output_type": "execute_result"
    }
   ],
   "source": [
    "part_df_1_copy['user_id'].value_counts()"
   ],
   "metadata": {
    "collapsed": false
   }
  },
  {
   "cell_type": "code",
   "execution_count": 46,
   "outputs": [],
   "source": [
    "# part_df_1_copy['price'] = part_df_1_copy['price'].astype('uint32')\n",
    "part_df_1_copy['request_cnt'] = part_df_1_copy['request_cnt'].astype('uint8')\n",
    "part_df_1_copy['user_id'] = part_df_1_copy['user_id'].astype('uint32')"
   ],
   "metadata": {
    "collapsed": false
   }
  },
  {
   "cell_type": "code",
   "execution_count": 47,
   "outputs": [
    {
     "name": "stdout",
     "output_type": "stream",
     "text": [
      "<class 'pandas.core.frame.DataFrame'>\n",
      "RangeIndex: 32638709 entries, 0 to 32638708\n",
      "Data columns (total 12 columns):\n",
      " #   Column                 Dtype   \n",
      "---  ------                 -----   \n",
      " 0   region_name            category\n",
      " 1   city_name              category\n",
      " 2   cpe_manufacturer_name  category\n",
      " 3   cpe_model_name         category\n",
      " 4   url_host               category\n",
      " 5   cpe_type_cd            category\n",
      " 6   cpe_model_os_type      category\n",
      " 7   price                  float64 \n",
      " 8   date                   category\n",
      " 9   part_of_day            category\n",
      " 10  request_cnt            uint8   \n",
      " 11  user_id                uint32  \n",
      "dtypes: category(9), float64(1), uint32(1), uint8(1)\n",
      "memory usage: 874.2 MB\n"
     ]
    }
   ],
   "source": [
    "part_df_1_copy.info()"
   ],
   "metadata": {
    "collapsed": false
   }
  },
  {
   "cell_type": "code",
   "execution_count": 54,
   "outputs": [
    {
     "data": {
      "text/plain": "          region_name  city_name cpe_manufacturer_name cpe_model_name  \\\n0  Краснодарский край  Краснодар                 Apple       iPhone 7   \n1  Краснодарский край  Краснодар                 Apple       iPhone 7   \n2  Краснодарский край  Краснодар                 Apple       iPhone 7   \n3  Краснодарский край  Краснодар                 Apple       iPhone 7   \n4  Краснодарский край  Краснодар                 Apple       iPhone 7   \n\n                      url_host cpe_type_cd cpe_model_os_type    price  \\\n0                ad.adriver.ru  smartphone               iOS  20368.0   \n1                    apple.com  smartphone               iOS  20368.0   \n2       avatars.mds.yandex.net  smartphone               iOS  20368.0   \n3  googleads.g.doubleclick.net  smartphone               iOS  20368.0   \n4  googleads.g.doubleclick.net  smartphone               iOS  20368.0   \n\n         date part_of_day  request_cnt  user_id  \n0  2022-06-15     morning            1    45098  \n1  2022-06-19     morning            1    45098  \n2  2022-06-12         day            1    45098  \n3  2022-05-16         day            1    45098  \n4  2022-05-30         day            1    45098  ",
      "text/html": "<div>\n<style scoped>\n    .dataframe tbody tr th:only-of-type {\n        vertical-align: middle;\n    }\n\n    .dataframe tbody tr th {\n        vertical-align: top;\n    }\n\n    .dataframe thead th {\n        text-align: right;\n    }\n</style>\n<table border=\"1\" class=\"dataframe\">\n  <thead>\n    <tr style=\"text-align: right;\">\n      <th></th>\n      <th>region_name</th>\n      <th>city_name</th>\n      <th>cpe_manufacturer_name</th>\n      <th>cpe_model_name</th>\n      <th>url_host</th>\n      <th>cpe_type_cd</th>\n      <th>cpe_model_os_type</th>\n      <th>price</th>\n      <th>date</th>\n      <th>part_of_day</th>\n      <th>request_cnt</th>\n      <th>user_id</th>\n    </tr>\n  </thead>\n  <tbody>\n    <tr>\n      <th>0</th>\n      <td>Краснодарский край</td>\n      <td>Краснодар</td>\n      <td>Apple</td>\n      <td>iPhone 7</td>\n      <td>ad.adriver.ru</td>\n      <td>smartphone</td>\n      <td>iOS</td>\n      <td>20368.0</td>\n      <td>2022-06-15</td>\n      <td>morning</td>\n      <td>1</td>\n      <td>45098</td>\n    </tr>\n    <tr>\n      <th>1</th>\n      <td>Краснодарский край</td>\n      <td>Краснодар</td>\n      <td>Apple</td>\n      <td>iPhone 7</td>\n      <td>apple.com</td>\n      <td>smartphone</td>\n      <td>iOS</td>\n      <td>20368.0</td>\n      <td>2022-06-19</td>\n      <td>morning</td>\n      <td>1</td>\n      <td>45098</td>\n    </tr>\n    <tr>\n      <th>2</th>\n      <td>Краснодарский край</td>\n      <td>Краснодар</td>\n      <td>Apple</td>\n      <td>iPhone 7</td>\n      <td>avatars.mds.yandex.net</td>\n      <td>smartphone</td>\n      <td>iOS</td>\n      <td>20368.0</td>\n      <td>2022-06-12</td>\n      <td>day</td>\n      <td>1</td>\n      <td>45098</td>\n    </tr>\n    <tr>\n      <th>3</th>\n      <td>Краснодарский край</td>\n      <td>Краснодар</td>\n      <td>Apple</td>\n      <td>iPhone 7</td>\n      <td>googleads.g.doubleclick.net</td>\n      <td>smartphone</td>\n      <td>iOS</td>\n      <td>20368.0</td>\n      <td>2022-05-16</td>\n      <td>day</td>\n      <td>1</td>\n      <td>45098</td>\n    </tr>\n    <tr>\n      <th>4</th>\n      <td>Краснодарский край</td>\n      <td>Краснодар</td>\n      <td>Apple</td>\n      <td>iPhone 7</td>\n      <td>googleads.g.doubleclick.net</td>\n      <td>smartphone</td>\n      <td>iOS</td>\n      <td>20368.0</td>\n      <td>2022-05-30</td>\n      <td>day</td>\n      <td>1</td>\n      <td>45098</td>\n    </tr>\n  </tbody>\n</table>\n</div>"
     },
     "execution_count": 54,
     "metadata": {},
     "output_type": "execute_result"
    }
   ],
   "source": [
    "part_df_1_copy.head()"
   ],
   "metadata": {
    "collapsed": false
   }
  },
  {
   "cell_type": "code",
   "execution_count": 48,
   "outputs": [
    {
     "data": {
      "text/plain": "674264"
     },
     "execution_count": 48,
     "metadata": {},
     "output_type": "execute_result"
    }
   ],
   "source": [
    "part_df_1_copy['price'].isna().sum()"
   ],
   "metadata": {
    "collapsed": false
   }
  },
  {
   "cell_type": "code",
   "execution_count": 49,
   "outputs": [
    {
     "data": {
      "text/plain": "14990.0    333652\n7990.0     316551\n15990.0    315270\n10990.0    308171\n9990.0     256059\n            ...  \n15614.0         1\n17665.0         1\n5557.0          1\n10463.0         1\n21783.0         1\nName: price, Length: 13888, dtype: int64"
     },
     "execution_count": 49,
     "metadata": {},
     "output_type": "execute_result"
    }
   ],
   "source": [
    "part_df_1_copy['price'].value_counts()"
   ],
   "metadata": {
    "collapsed": false
   }
  },
  {
   "cell_type": "code",
   "execution_count": 51,
   "outputs": [
    {
     "ename": "AttributeError",
     "evalue": "'Categorical' object has no attribute 'head'",
     "output_type": "error",
     "traceback": [
      "\u001B[0;31m---------------------------------------------------------------------------\u001B[0m",
      "\u001B[0;31mAttributeError\u001B[0m                            Traceback (most recent call last)",
      "\u001B[0;32m/var/folders/jl/6gw5l36x7tv9jxp646h_lhn40000gn/T/ipykernel_6458/2874430928.py\u001B[0m in \u001B[0;36m<module>\u001B[0;34m\u001B[0m\n\u001B[1;32m      5\u001B[0m \u001B[0mpart_df_1_copy_1\u001B[0m \u001B[0;34m=\u001B[0m \u001B[0mpart_df_1_copy\u001B[0m\u001B[0;34m[\u001B[0m\u001B[0;34m'cpe_model_name'\u001B[0m\u001B[0;34m]\u001B[0m\u001B[0;34m.\u001B[0m\u001B[0munique\u001B[0m\u001B[0;34m(\u001B[0m\u001B[0;34m)\u001B[0m\u001B[0;34m\u001B[0m\u001B[0;34m\u001B[0m\u001B[0m\n\u001B[1;32m      6\u001B[0m \u001B[0;34m\u001B[0m\u001B[0m\n\u001B[0;32m----> 7\u001B[0;31m \u001B[0mpart_df_1_copy_1\u001B[0m\u001B[0;34m.\u001B[0m\u001B[0mhead\u001B[0m\u001B[0;34m(\u001B[0m\u001B[0;34m)\u001B[0m\u001B[0;34m\u001B[0m\u001B[0;34m\u001B[0m\u001B[0m\n\u001B[0m",
      "\u001B[0;31mAttributeError\u001B[0m: 'Categorical' object has no attribute 'head'"
     ]
    }
   ],
   "source": [
    "from tqdm.notebook import tqdm\n",
    "phone_model__price = {}\n",
    "\n",
    "part_df_1_copy_1 = part_df_1_copy.loc[part_df_1_copy['price'].isna() == False] # Без пропусков в цене\n",
    "ser_cpe_model_name = part_df_1_copy_1['cpe_model_name'].unique() # Уникальные модели телефонов\n",
    "part_df_1_copy_2 = part_df_1_copy.loc[\n",
    "    (part_df_1_copy['price'].isna() == True) & (part_df_1_copy['cpe_model_name'] in ser_cpe_model_name)\n",
    "]"
   ],
   "metadata": {
    "collapsed": false
   }
  },
  {
   "cell_type": "code",
   "execution_count": 56,
   "outputs": [
    {
     "data": {
      "text/plain": "                  price\ncpe_model_name         \n1                3990.0\n1 Dual           2426.0\n11 Lite 5G NE   29990.0\n11T             41657.0\n1904            11990.0\n...                 ...\niPhone SE 2020  38214.0\niPhone X        67199.0\niPhone XR       51311.0\niPhone Xs       85162.0\niPhone Xs Max   56270.0\n\n[399 rows x 1 columns]",
      "text/html": "<div>\n<style scoped>\n    .dataframe tbody tr th:only-of-type {\n        vertical-align: middle;\n    }\n\n    .dataframe tbody tr th {\n        vertical-align: top;\n    }\n\n    .dataframe thead th {\n        text-align: right;\n    }\n</style>\n<table border=\"1\" class=\"dataframe\">\n  <thead>\n    <tr style=\"text-align: right;\">\n      <th></th>\n      <th>price</th>\n    </tr>\n    <tr>\n      <th>cpe_model_name</th>\n      <th></th>\n    </tr>\n  </thead>\n  <tbody>\n    <tr>\n      <th>1</th>\n      <td>3990.0</td>\n    </tr>\n    <tr>\n      <th>1 Dual</th>\n      <td>2426.0</td>\n    </tr>\n    <tr>\n      <th>11 Lite 5G NE</th>\n      <td>29990.0</td>\n    </tr>\n    <tr>\n      <th>11T</th>\n      <td>41657.0</td>\n    </tr>\n    <tr>\n      <th>1904</th>\n      <td>11990.0</td>\n    </tr>\n    <tr>\n      <th>...</th>\n      <td>...</td>\n    </tr>\n    <tr>\n      <th>iPhone SE 2020</th>\n      <td>38214.0</td>\n    </tr>\n    <tr>\n      <th>iPhone X</th>\n      <td>67199.0</td>\n    </tr>\n    <tr>\n      <th>iPhone XR</th>\n      <td>51311.0</td>\n    </tr>\n    <tr>\n      <th>iPhone Xs</th>\n      <td>85162.0</td>\n    </tr>\n    <tr>\n      <th>iPhone Xs Max</th>\n      <td>56270.0</td>\n    </tr>\n  </tbody>\n</table>\n<p>399 rows × 1 columns</p>\n</div>"
     },
     "execution_count": 56,
     "metadata": {},
     "output_type": "execute_result"
    }
   ],
   "source": [
    "df_model_phone = part_df_1_copy[['cpe_model_name', 'price']]\n",
    "\n",
    "df_model_phone_pt = pd.pivot_table(df_model_phone, index=['cpe_model_name'], values=['price'], aggfunc=['first', 'count'])\n",
    "df_model_phone_pt"
   ],
   "metadata": {
    "collapsed": false
   }
  },
  {
   "cell_type": "code",
   "execution_count": null,
   "outputs": [],
   "source": [
    "for row in tqdm(part_df_1_copy.iterrows(), total=part_df_1_copy.shape[0]):\n",
    "    model = row[1]['cpe_model_name']\n",
    "\n",
    "    phone_model__price[row[1]['cpe_model_name']] = row[1]['price']\n",
    "\n",
    "phone_model__price"
   ],
   "metadata": {
    "collapsed": false
   }
  }
 ]
}
